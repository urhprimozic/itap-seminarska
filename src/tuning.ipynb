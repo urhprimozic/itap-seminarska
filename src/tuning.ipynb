{
 "cells": [
  {
   "cell_type": "markdown",
   "metadata": {},
   "source": [
    "### Delitev podatkov\n",
    "Za začetek delim  na uč. Testnna je spodnja vrstica. Če bodo rezultati slabi, bom zdelil vse na manjše kose in delal tam stratifikacijo."
   ]
  },
  {
   "cell_type": "code",
   "execution_count": null,
   "metadata": {},
   "outputs": [],
   "source": [
    "# simpl primer\n"
   ]
  }
 ],
 "metadata": {
  "language_info": {
   "name": "python"
  },
  "orig_nbformat": 4
 },
 "nbformat": 4,
 "nbformat_minor": 2
}
